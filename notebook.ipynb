{
 "cells": [
  {
   "cell_type": "raw",
   "source": [],
   "metadata": {
    "collapsed": false
   }
  },
  {
   "cell_type": "code",
   "execution_count": 513,
   "metadata": {
    "collapsed": true,
    "ExecuteTime": {
     "end_time": "2023-07-02T22:36:47.384718300Z",
     "start_time": "2023-07-02T22:36:46.910653700Z"
    }
   },
   "outputs": [
    {
     "data": {
      "text/plain": "      planned_eta       originID  destinationID  distance_km  customerID  \\\n0 2 days 11:01:00  CHEPUZTVSHUA1  HOSHOSALLCCA2        320.0  ALLEXCHE45   \n1 0 days 22:30:00  CHEORADMRCCB1  CHEMATDMROPA7        103.0  DMREXCHEUX   \n2 2 days 11:25:00  CHEPONLUTCCA4  CHEPONLUTCCA4        300.0  LUTGCCHE06   \n3 2 days 00:29:00  CHEORADMRCCB1  CHEMATDMROPA7         61.0  DMREXCHEUX   \n4 0 days 23:21:00  CHENETLUTCCA1  CHENETLUTCCA1        240.0  LUTGCCHE06   \n\n            MaterialShipped     transit_time  \n0     BRACKET / GRAB HANDLE 10 days 23:39:00  \n1     ZB MODEL PLATE / 3143  0 days 20:25:00  \n2          LETTERING / FUSO  0 days 22:06:00  \n3  LU STRUT RA / RADIUS ROD  0 days 12:03:00  \n4      WISHBONE / V ROD/HDT  0 days 13:09:00  ",
      "text/html": "<div>\n<style scoped>\n    .dataframe tbody tr th:only-of-type {\n        vertical-align: middle;\n    }\n\n    .dataframe tbody tr th {\n        vertical-align: top;\n    }\n\n    .dataframe thead th {\n        text-align: right;\n    }\n</style>\n<table border=\"1\" class=\"dataframe\">\n  <thead>\n    <tr style=\"text-align: right;\">\n      <th></th>\n      <th>planned_eta</th>\n      <th>originID</th>\n      <th>destinationID</th>\n      <th>distance_km</th>\n      <th>customerID</th>\n      <th>MaterialShipped</th>\n      <th>transit_time</th>\n    </tr>\n  </thead>\n  <tbody>\n    <tr>\n      <th>0</th>\n      <td>2 days 11:01:00</td>\n      <td>CHEPUZTVSHUA1</td>\n      <td>HOSHOSALLCCA2</td>\n      <td>320.0</td>\n      <td>ALLEXCHE45</td>\n      <td>BRACKET / GRAB HANDLE</td>\n      <td>10 days 23:39:00</td>\n    </tr>\n    <tr>\n      <th>1</th>\n      <td>0 days 22:30:00</td>\n      <td>CHEORADMRCCB1</td>\n      <td>CHEMATDMROPA7</td>\n      <td>103.0</td>\n      <td>DMREXCHEUX</td>\n      <td>ZB MODEL PLATE / 3143</td>\n      <td>0 days 20:25:00</td>\n    </tr>\n    <tr>\n      <th>2</th>\n      <td>2 days 11:25:00</td>\n      <td>CHEPONLUTCCA4</td>\n      <td>CHEPONLUTCCA4</td>\n      <td>300.0</td>\n      <td>LUTGCCHE06</td>\n      <td>LETTERING / FUSO</td>\n      <td>0 days 22:06:00</td>\n    </tr>\n    <tr>\n      <th>3</th>\n      <td>2 days 00:29:00</td>\n      <td>CHEORADMRCCB1</td>\n      <td>CHEMATDMROPA7</td>\n      <td>61.0</td>\n      <td>DMREXCHEUX</td>\n      <td>LU STRUT RA / RADIUS ROD</td>\n      <td>0 days 12:03:00</td>\n    </tr>\n    <tr>\n      <th>4</th>\n      <td>0 days 23:21:00</td>\n      <td>CHENETLUTCCA1</td>\n      <td>CHENETLUTCCA1</td>\n      <td>240.0</td>\n      <td>LUTGCCHE06</td>\n      <td>WISHBONE / V ROD/HDT</td>\n      <td>0 days 13:09:00</td>\n    </tr>\n  </tbody>\n</table>\n</div>"
     },
     "execution_count": 513,
     "metadata": {},
     "output_type": "execute_result"
    }
   ],
   "source": [
    "import pandas as pd\n",
    "\n",
    "# import a csv file and convert it to a dataframe\n",
    "filename = \"delivery-truck-trip-data.csv\"\n",
    "\n",
    "# select the columns we want to use\n",
    "columns = ['MaterialShipped', 'customerID', 'actual_eta', 'trip_start_date', 'originID', 'destinationID', 'distance_km','planned_eta']\n",
    "\n",
    "# read the csv file and convert it to a dataframe and only 1000 rows\n",
    "df = pd.read_csv(filename, usecols=columns, parse_dates=['trip_start_date', 'actual_eta', 'planned_eta'], nrows=6000)\n",
    "\n",
    "# add a new column that is the difference between the actual eta and the trip start date\n",
    "df['transit_time'] = df['actual_eta'] - df['trip_start_date']\n",
    "\n",
    "# planned_eta has the format hh:mm.x, where x is a fraction of a minute (e.g. 0.5 is 30 seconds)\n",
    "# convert the planned_eta to a timedelta without the fraction of a minute\n",
    "\n",
    "# then add the fraction of a minute back\n",
    "df['planned_eta'] = pd.to_timedelta(df['planned_eta'].str.split('.').str[0] + ':00') + pd.to_timedelta(df['planned_eta'].str.split('.').str[1] + ' minutes')\n",
    "\n",
    "# hide actual eta and trip start date columns\n",
    "df = df.drop(columns=['actual_eta', 'trip_start_date'])\n",
    "\n",
    "# print the first 5 rows of the dataframe\n",
    "df = df.dropna()\n",
    "df.head()"
   ]
  },
  {
   "cell_type": "code",
   "execution_count": 514,
   "outputs": [
    {
     "name": "stdout",
     "output_type": "stream",
     "text": [
      "Customers: 38\n",
      "Products: 1177\n",
      "Shortest distance: 0.0\n",
      "Longest distance: 2954.7\n",
      "Average distance: 574.9988663755458\n",
      "Number of deliveries that were late: 3743\n",
      "Number of outliers: 116\n",
      "Top 5 customers by number of deliveries:\n",
      "LTLEXMUM40    3029\n",
      "FILEXCHE19     634\n",
      "DMREXCHEUX     569\n",
      "ALLEXCHE45     251\n",
      "LUTGCCHE06     217\n",
      "Name: customerID, dtype: int64\n",
      "Top 5 products by number of deliveries:\n",
      "AUTO PARTS                       1417\n",
      "GRS STARTER                       217\n",
      "EMPTY TRAYS                       158\n",
      "M70 STARTER MOTOR 12V 0.9KW       126\n",
      "SPARE PARTS AUTOMOBILE            114\n",
      "Name: MaterialShipped, dtype: int64\n",
      "Top 5 routes by number of deliveries with average transit time:\n",
      "                            transit_time                          \n",
      "                                   count                      mean\n",
      "originID      destinationID                                       \n",
      "CHEORADMRCCB1 CHEMATDMROPA7          242 1 days 02:03:13.636363636\n",
      "GURJMATVSHUA1 CHEMMNFILCCA1          128    7 days 01:51:54.843750\n",
      "PUNTATTVSHUA1 CHEORADMRCCB1          126 7 days 15:26:08.095238095\n",
      "HOSHOSALLCCA3 HOSHOSALLCCA3           94 0 days 00:30:28.723404255\n",
      "CHEORADMRCCB1 CHEMTADMROPA1           80    0 days 14:04:20.250000\n"
     ]
    }
   ],
   "source": [
    "print(f\"Customers: {df['customerID'].nunique()}\")\n",
    "print(f\"Products: {df['MaterialShipped'].nunique()}\")\n",
    "\n",
    "# interesting statistics about the distance\n",
    "print(f\"Shortest distance: {df['distance_km'].min()}\")\n",
    "print(f\"Longest distance: {df['distance_km'].max()}\")\n",
    "print(f\"Average distance: {df['distance_km'].mean()}\")\n",
    "\n",
    "print(f\"Number of deliveries that were late: {df[df['transit_time'] > df['planned_eta']].shape[0]}\")\n",
    "\n",
    "# filter out outliers using IQR\n",
    "lower_bound = df['transit_time'].quantile(0.01)\n",
    "upper_bound = df['transit_time'].quantile(0.99)\n",
    "# print number of rows where the transit time is less than the lower bound or greater than the upper bound\n",
    "print(\"Number of outliers:\", df[(df['transit_time'] < lower_bound) | (df['transit_time'] > upper_bound)].shape[0])\n",
    "\n",
    "# filter out rows where the transit time is less than the lower bound or greater than the upper bound\n",
    "df = df[(df['transit_time'] > lower_bound) & (df['transit_time'] < upper_bound)]\n",
    "\n",
    "print(\"Top 5 customers by number of deliveries:\")\n",
    "print(df['customerID'].value_counts().head())\n",
    "\n",
    "print(\"Top 5 products by number of deliveries:\")\n",
    "print(df['MaterialShipped'].value_counts().head())\n",
    "\n",
    "print(\"Top 5 routes by number of deliveries with average transit time:\")\n",
    "print(df.groupby(['originID', 'destinationID']).agg({'transit_time': ['count', 'mean']}).sort_values(by=('transit_time', 'count'), ascending=False).head())"
   ],
   "metadata": {
    "collapsed": false,
    "ExecuteTime": {
     "end_time": "2023-07-02T22:36:47.445226700Z",
     "start_time": "2023-07-02T22:36:47.387720Z"
    }
   }
  },
  {
   "cell_type": "code",
   "execution_count": 515,
   "outputs": [
    {
     "name": "stdout",
     "output_type": "stream",
     "text": [
      "MSE: 3801484.1250724536\n"
     ]
    }
   ],
   "source": [
    "# Calculate the mse for the planned eta and the actual eta by converting the timedelta to minutes and then squaring the difference\n",
    "def mse(actual, predicted):\n",
    "    return (((actual - predicted).dt.total_seconds() / 3600) ** 2).sum() / actual.shape[0]\n",
    "\n",
    "mse = mse(df['planned_eta'], df['transit_time'])\n",
    "print(f\"MSE: {mse}\")"
   ],
   "metadata": {
    "collapsed": false,
    "ExecuteTime": {
     "end_time": "2023-07-02T22:36:47.478226900Z",
     "start_time": "2023-07-02T22:36:47.417224200Z"
    }
   }
  },
  {
   "cell_type": "code",
   "execution_count": 516,
   "outputs": [
    {
     "name": "stdout",
     "output_type": "stream",
     "text": [
      "Total set size: 5609\n",
      "Training set size: 4487\n",
      "Testing set size: 561\n",
      "Validation set size: 561\n"
     ]
    }
   ],
   "source": [
    "from sklearn.model_selection import train_test_split\n",
    "from sklearn.preprocessing import OneHotEncoder\n",
    "\n",
    "# split the data into training, testing, and validation sets using a 80/10/10 split\n",
    "\n",
    "train, test = train_test_split(df, test_size=0.2, random_state=42)\n",
    "test, val = train_test_split(test, test_size=0.5, random_state=42)\n",
    "\n",
    "# one-hot encode the customerID and MaterialShipped columns\n",
    "customer_encoder = OneHotEncoder(handle_unknown='ignore')\n",
    "customer_encoder.fit(train['customerID'].values.reshape(-1, 1))\n",
    "\n",
    "product_encoder = OneHotEncoder(handle_unknown='ignore')\n",
    "product_encoder.fit(train['MaterialShipped'].values.reshape(-1, 1))\n",
    "\n",
    "# display the one-hot encoded columns\n",
    "\n",
    "print(f\"Total set size: {df.shape[0]}\")\n",
    "print(f\"Training set size: {train.shape[0]}\")\n",
    "print(f\"Testing set size: {test.shape[0]}\")\n",
    "print(f\"Validation set size: {val.shape[0]}\")"
   ],
   "metadata": {
    "collapsed": false,
    "ExecuteTime": {
     "end_time": "2023-07-02T22:36:47.484232Z",
     "start_time": "2023-07-02T22:36:47.434224400Z"
    }
   }
  },
  {
   "cell_type": "code",
   "execution_count": 517,
   "outputs": [
    {
     "name": "stdout",
     "output_type": "stream",
     "text": [
      "MSE: 3647962.4006057666, Percent improvement: 4.038468119704723%\n"
     ]
    }
   ],
   "source": [
    "# Create a statistical model that predicts the transit time based on the distance\n",
    "import statsmodels.api as sm\n",
    "\n",
    "# create a linear regression model\n",
    "model = sm.OLS(train['transit_time'].dt.total_seconds() / 3600, train['distance_km'])\n",
    "\n",
    "# fit the model\n",
    "results = model.fit()\n",
    "\n",
    "t = test['transit_time']\n",
    "p = results.predict(test['distance_km'])\n",
    "\n",
    "mse_lin = 0\n",
    "for actual, predicted in zip(t, p):\n",
    "    mse_lin += (actual.total_seconds() / 3600 - predicted) ** 2\n",
    "mse_lin /= t.shape[0]\n",
    "\n",
    "print(f\"MSE: {mse_lin}, Percent improvement: {100 * (mse - mse_lin) / mse}%\")"
   ],
   "metadata": {
    "collapsed": false,
    "ExecuteTime": {
     "end_time": "2023-07-02T22:36:47.484232Z",
     "start_time": "2023-07-02T22:36:47.449228200Z"
    }
   }
  },
  {
   "cell_type": "code",
   "execution_count": 518,
   "outputs": [
    {
     "data": {
      "text/plain": "<Figure size 640x480 with 1 Axes>",
      "image/png": "[encoded data removed]"
     },
     "metadata": {},
     "output_type": "display_data"
    },
    {
     "name": "stdout",
     "output_type": "stream",
     "text": [
      "MSE: 3521300.1922715013, Percent improvement: 3.4721357959509738% (diff: -126662.20833426528)\n"
     ]
    }
   ],
   "source": [
    "# Create a multi-layer perceptron model that predicts the transit time based on the distance\n",
    "import matplotlib.pyplot as plt\n",
    "from sklearn.neural_network import MLPRegressor\n",
    "\n",
    "# create a multi-layer perceptron model\n",
    "model = MLPRegressor(max_iter=10000, hidden_layer_sizes=(10,), random_state=42)\n",
    "\n",
    "# fit the model\n",
    "model.fit(train['distance_km'].values.reshape(-1, 1), train['transit_time'].dt.total_seconds() / 3600)\n",
    "\n",
    "t = test['transit_time']\n",
    "p = model.predict(test['distance_km'].values.reshape(-1, 1))\n",
    "\n",
    "mse_mlp = 0\n",
    "for actual, predicted in zip(t, p):\n",
    "    mse_mlp += (actual.total_seconds() / 3600 - predicted) ** 2\n",
    "mse_mlp /= t.shape[0]\n",
    "\n",
    "# show graph of model training\n",
    "plt.plot(model.loss_curve_)\n",
    "plt.show()\n",
    "\n",
    "print(f\"MSE: {mse_mlp}, Percent improvement: {100 * (mse_lin - mse_mlp) / mse_lin}% (diff: {mse_mlp - mse_lin})\")"
   ],
   "metadata": {
    "collapsed": false,
    "ExecuteTime": {
     "end_time": "2023-07-02T22:36:49.743986400Z",
     "start_time": "2023-07-02T22:36:47.466224600Z"
    }
   }
  },
  {
   "cell_type": "code",
   "execution_count": 519,
   "outputs": [
    {
     "name": "stdout",
     "output_type": "stream",
     "text": [
      "MSE: 3470286.967775141, Percent improvement: 1.4487042203423466% (diff: -51013.2244963604)\n"
     ]
    }
   ],
   "source": [
    "# Create a random forest model that predicts the transit time based on the distance\n",
    "\n",
    "from sklearn.ensemble import RandomForestRegressor\n",
    "\n",
    "# create a random forest model\n",
    "model = RandomForestRegressor(n_estimators=100)\n",
    "\n",
    "# fit the model\n",
    "model.fit(train['distance_km'].values.reshape(-1, 1), train['transit_time'].dt.total_seconds() / 3600)\n",
    "\n",
    "t = test['transit_time']\n",
    "p = model.predict(test['distance_km'].values.reshape(-1, 1))\n",
    "\n",
    "mse_rf = 0\n",
    "for actual, predicted in zip(t, p):\n",
    "    mse_rf += (actual.total_seconds() / 3600 - predicted) ** 2\n",
    "mse_rf /= t.shape[0]\n",
    "\n",
    "print(f\"MSE: {mse_rf}, Percent improvement: {100 * (mse_mlp - mse_rf) / mse_mlp}% (diff: {mse_rf - mse_mlp})\")"
   ],
   "metadata": {
    "collapsed": false,
    "ExecuteTime": {
     "end_time": "2023-07-02T22:36:49.948541500Z",
     "start_time": "2023-07-02T22:36:49.745987200Z"
    }
   }
  }
 ],
 "metadata": {
  "kernelspec": {
   "display_name": "Python 3",
   "language": "python",
   "name": "python3"
  },
  "language_info": {
   "codemirror_mode": {
    "name": "ipython",
    "version": 2
   },
   "file_extension": ".py",
   "mimetype": "text/x-python",
   "name": "python",
   "nbconvert_exporter": "python",
   "pygments_lexer": "ipython2",
   "version": "2.7.6"
  }
 },
 "nbformat": 4,
 "nbformat_minor": 0
}
